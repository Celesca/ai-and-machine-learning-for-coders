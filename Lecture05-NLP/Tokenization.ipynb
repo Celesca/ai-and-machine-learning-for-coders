{
 "cells": [
  {
   "cell_type": "code",
   "execution_count": 3,
   "metadata": {},
   "outputs": [
    {
     "name": "stdout",
     "output_type": "stream",
     "text": [
      "{'i': 1, 'love': 2, 'my': 3, 'dog': 4, 'cat': 5, 'is': 6, 'it': 7, 'sunny': 8, 'today': 9}\n",
      "[[1, 2, 3, 4], [1, 2, 3, 5], [6, 7, 8, 9]]\n"
     ]
    }
   ],
   "source": [
    "import tensorflow as tf\n",
    "from tensorflow import keras\n",
    "from tensorflow.keras.preprocessing.text import Tokenizer\n",
    "\n",
    "sentences = [\n",
    "    'I love my dog',\n",
    "    'I love my cat',\n",
    "    'Is it sunny today?'\n",
    "]\n",
    "\n",
    "tokenizer = Tokenizer(num_words=100)\n",
    "tokenizer.fit_on_texts(sentences)\n",
    "\n",
    "# คลังคำศัพท์ Corpus\n",
    "word_index = tokenizer.word_index\n",
    "print(word_index)\n",
    "\n",
    "sequences = tokenizer.texts_to_sequences(sentences)\n",
    "\n",
    "print(sequences)"
   ]
  },
  {
   "cell_type": "markdown",
   "metadata": {},
   "source": [
    "---"
   ]
  },
  {
   "cell_type": "markdown",
   "metadata": {},
   "source": [
    "### OOV (Out-of-vocabulary Token)"
   ]
  },
  {
   "cell_type": "code",
   "execution_count": 4,
   "metadata": {},
   "outputs": [
    {
     "name": "stdout",
     "output_type": "stream",
     "text": [
      "[[9, 6], [7]]\n"
     ]
    }
   ],
   "source": [
    "test_data = [\n",
    "    'Today is the snowy day',\n",
    "    'Will it be rainy tomorrow?'\n",
    "]\n",
    "\n",
    "test_sequences = tokenizer.texts_to_sequences(test_data)\n",
    "print(test_sequences)"
   ]
  },
  {
   "cell_type": "markdown",
   "metadata": {},
   "source": [
    "จะเห็นว่า Token มันจะหายไป เพราะมันไม่รู้จักคำศัพท์นั้นๆ เราจึงใช้ OOV แทนจุดที่มันหายไป เพื่อคงไว้ซึ่งบริบท"
   ]
  },
  {
   "cell_type": "code",
   "execution_count": 6,
   "metadata": {},
   "outputs": [
    {
     "name": "stdout",
     "output_type": "stream",
     "text": [
      "[[10, 7, 1, 1, 1], [1, 8, 1, 1, 1]]\n",
      "{'<OOV>': 1, 'i': 2, 'love': 3, 'my': 4, 'dog': 5, 'cat': 6, 'is': 7, 'it': 8, 'sunny': 9, 'today': 10}\n"
     ]
    }
   ],
   "source": [
    "tokenizer = Tokenizer(num_words=100, oov_token='<OOV>')\n",
    "\n",
    "tokenizer.fit_on_texts(sentences)\n",
    "word_index = tokenizer.word_index\n",
    "\n",
    "test_sequences = tokenizer.texts_to_sequences(test_data)\n",
    "print(test_sequences)\n",
    "print(word_index)"
   ]
  },
  {
   "cell_type": "markdown",
   "metadata": {},
   "source": [
    "### Padding เวลาที่เราจะเทรนมักจะต้องการให้ความยาวตัวอักษรที่ Train เท่ากัน"
   ]
  },
  {
   "cell_type": "code",
   "execution_count": 12,
   "metadata": {},
   "outputs": [
    {
     "name": "stdout",
     "output_type": "stream",
     "text": [
      "Before padded : \n",
      "[[2, 3, 4, 5, 6], [2, 3, 4, 7, 6], [3, 8, 5, 2], [9, 10, 11, 12, 13, 14, 15, 2]]\n",
      "After padded : \n",
      "[[ 0  0  0  2  3  4  5  6]\n",
      " [ 0  0  0  2  3  4  7  6]\n",
      " [ 0  0  0  0  3  8  5  2]\n",
      " [ 9 10 11 12 13 14 15  2]]\n",
      "After padded (post) : \n",
      "[[ 2  3  4  5  6  0  0  0]\n",
      " [ 2  3  4  7  6  0  0  0]\n",
      " [ 3  8  5  2  0  0  0  0]\n",
      " [ 9 10 11 12 13 14 15  2]]\n",
      "After padded (post, maxlen=5) : \n",
      "[[ 2  3  4  5  6]\n",
      " [ 2  3  4  7  6]\n",
      " [ 3  8  5  2  0]\n",
      " [12 13 14 15  2]]\n"
     ]
    }
   ],
   "source": [
    "from tensorflow.keras.preprocessing.sequence import pad_sequences\n",
    "\n",
    "sentences = [\n",
    "    'Today is a sunny day',\n",
    "    'Today is a rainy day',\n",
    "    'Is it sunny today?',\n",
    "    'I really enjoyed walking in the snow today'\n",
    "]\n",
    "\n",
    "tokenizer = Tokenizer(num_words=100, oov_token='<OOV>')\n",
    "tokenizer.fit_on_texts(sentences)\n",
    "\n",
    "sequences = tokenizer.texts_to_sequences(sentences)\n",
    "print('Before padded : ')\n",
    "print(sequences)\n",
    "\n",
    "# 0 ด้านหน้า\n",
    "padded = pad_sequences(sequences)\n",
    "print('After padded : ')\n",
    "print(padded)\n",
    "\n",
    "# 0 ด้านหลัง\n",
    "padded = pad_sequences(sequences, padding='post')\n",
    "print('After padded (post) : ')\n",
    "print(padded)"
   ]
  },
  {
   "cell_type": "code",
   "execution_count": 14,
   "metadata": {},
   "outputs": [
    {
     "name": "stdout",
     "output_type": "stream",
     "text": [
      "After padded (post, maxlen=5) : \n",
      "[[ 2  3  4  5  6]\n",
      " [ 2  3  4  7  6]\n",
      " [ 3  8  5  2  0]\n",
      " [12 13 14 15  2]]\n",
      "After padded (post, maxlen=5, truncating=post) : \n",
      "[[ 2  3  4  5  6]\n",
      " [ 2  3  4  7  6]\n",
      " [ 3  8  5  2  0]\n",
      " [ 9 10 11 12 13]]\n"
     ]
    }
   ],
   "source": [
    "# 0 ด้านหลัง และ จำกัดความยาว\n",
    "padded = pad_sequences(sequences, padding='post', maxlen=5)\n",
    "print('After padded (post, maxlen=5) : ')\n",
    "print(padded)\n",
    "\n",
    "# เกิดปัญหาตัดข้อมูลด้านหน้าแทน แต่เราต้องการจะตัดหลัง\n",
    "padded = pad_sequences(sequences, padding='post', maxlen=5, truncating='post')\n",
    "print('After padded (post, maxlen=5, truncating=post) : ')\n",
    "print(padded)"
   ]
  },
  {
   "cell_type": "code",
   "execution_count": null,
   "metadata": {},
   "outputs": [],
   "source": []
  }
 ],
 "metadata": {
  "kernelspec": {
   "display_name": "Python 3",
   "language": "python",
   "name": "python3"
  },
  "language_info": {
   "codemirror_mode": {
    "name": "ipython",
    "version": 3
   },
   "file_extension": ".py",
   "mimetype": "text/x-python",
   "name": "python",
   "nbconvert_exporter": "python",
   "pygments_lexer": "ipython3",
   "version": "3.11.4"
  }
 },
 "nbformat": 4,
 "nbformat_minor": 2
}
